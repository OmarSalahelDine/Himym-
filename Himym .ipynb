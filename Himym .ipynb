{
 "cells": [
  {
   "cell_type": "markdown",
   "metadata": {},
   "source": [
    "# Introduction"
   ]
  },
  {
   "cell_type": "markdown",
   "metadata": {},
   "source": [
    "How I Met Your Mother (often abbreviated as HIMYM) is one of the Most Popular American sitcom created by Craig Thomas and Carter Bays for CBS, which ran from 2005 to 2014.\n",
    "\n",
    "This dataset consisting of 209 row each representing an episode of the show and 10 columns that are features of the respective episodes."
   ]
  },
  {
   "cell_type": "markdown",
   "metadata": {},
   "source": [
    "# Business Understanding"
   ]
  },
  {
   "cell_type": "markdown",
   "metadata": {},
   "source": [
    "This dataset contains 10 columns such as \"Season\" , \"Episode\" , \"DateAired\" : the date that aired on tv , \"Title of Episode\" , \"Directors\" , \"Writers\" , \"Viewers\" , \"IMDB_Rating\" : the rate of the serie on IMDB Site , \"Votes\".\n",
    "\n",
    "We Can Analyze that data to reach the best episode ever or best season ever or both and so on "
   ]
  },
  {
   "cell_type": "markdown",
   "metadata": {},
   "source": [
    "# Questions"
   ]
  },
  {
   "cell_type": "markdown",
   "metadata": {},
   "source": [
    "- the Best season ever for the viewers ?\n",
    "- the Best season ever for the IMDB_rating?\n",
    "- the Best season ever for the votes?\n",
    "- the Best Episode ever for the viewers?\n",
    "- the Best Episode ever for the IMDB_rating?\n",
    "- the Best Episode ever for the votes?\n",
    "- which writers were the most successful?\n",
    "- which the most successful duo of directors and writers when work together? "
   ]
  },
  {
   "cell_type": "markdown",
   "metadata": {},
   "source": [
    "# Imports"
   ]
  },
  {
   "cell_type": "code",
   "execution_count": 1,
   "metadata": {},
   "outputs": [],
   "source": [
    "import numpy as np\n",
    "import pandas as pd\n",
    "import matplotlib.pyplot as plt\n",
    "import seaborn as sns "
   ]
  },
  {
   "cell_type": "markdown",
   "metadata": {},
   "source": [
    "# Data Wrangling / Data Understanding "
   ]
  },
  {
   "cell_type": "markdown",
   "metadata": {},
   "source": [
    "# Load Data "
   ]
  },
  {
   "cell_type": "code",
   "execution_count": 2,
   "metadata": {},
   "outputs": [
    {
     "data": {
      "text/html": [
       "<div>\n",
       "<style scoped>\n",
       "    .dataframe tbody tr th:only-of-type {\n",
       "        vertical-align: middle;\n",
       "    }\n",
       "\n",
       "    .dataframe tbody tr th {\n",
       "        vertical-align: top;\n",
       "    }\n",
       "\n",
       "    .dataframe thead th {\n",
       "        text-align: right;\n",
       "    }\n",
       "</style>\n",
       "<table border=\"1\" class=\"dataframe\">\n",
       "  <thead>\n",
       "    <tr style=\"text-align: right;\">\n",
       "      <th></th>\n",
       "      <th>SNo</th>\n",
       "      <th>Season</th>\n",
       "      <th>Episode</th>\n",
       "      <th>DateAired</th>\n",
       "      <th>Title</th>\n",
       "      <th>Director</th>\n",
       "      <th>Writers</th>\n",
       "      <th>Viewers</th>\n",
       "      <th>IMDB_Rating</th>\n",
       "      <th>Votes</th>\n",
       "    </tr>\n",
       "  </thead>\n",
       "  <tbody>\n",
       "    <tr>\n",
       "      <th>0</th>\n",
       "      <td>1</td>\n",
       "      <td>1</td>\n",
       "      <td>1</td>\n",
       "      <td>September 19, 2005</td>\n",
       "      <td>Pilot</td>\n",
       "      <td>Pamela Fryman</td>\n",
       "      <td>Carter Bays,Craig Thomas</td>\n",
       "      <td>10.94</td>\n",
       "      <td>8.5</td>\n",
       "      <td>4935</td>\n",
       "    </tr>\n",
       "    <tr>\n",
       "      <th>1</th>\n",
       "      <td>2</td>\n",
       "      <td>1</td>\n",
       "      <td>2</td>\n",
       "      <td>September 26, 2005</td>\n",
       "      <td>Purple Giraffe</td>\n",
       "      <td>Pamela Fryman</td>\n",
       "      <td>Carter Bays,Craig Thomas</td>\n",
       "      <td>10.40</td>\n",
       "      <td>8.2</td>\n",
       "      <td>3708</td>\n",
       "    </tr>\n",
       "    <tr>\n",
       "      <th>2</th>\n",
       "      <td>3</td>\n",
       "      <td>1</td>\n",
       "      <td>3</td>\n",
       "      <td>October 3, 2005</td>\n",
       "      <td>Sweet Taste of Liberty</td>\n",
       "      <td>Pamela Fryman</td>\n",
       "      <td>Phil Lord,Chris Miller</td>\n",
       "      <td>10.44</td>\n",
       "      <td>8.2</td>\n",
       "      <td>3514</td>\n",
       "    </tr>\n",
       "    <tr>\n",
       "      <th>3</th>\n",
       "      <td>4</td>\n",
       "      <td>1</td>\n",
       "      <td>4</td>\n",
       "      <td>October 10, 2005</td>\n",
       "      <td>Return of the Shirt</td>\n",
       "      <td>Pamela Fryman</td>\n",
       "      <td>Kourtney Kang</td>\n",
       "      <td>9.84</td>\n",
       "      <td>8.0</td>\n",
       "      <td>3298</td>\n",
       "    </tr>\n",
       "    <tr>\n",
       "      <th>4</th>\n",
       "      <td>5</td>\n",
       "      <td>1</td>\n",
       "      <td>5</td>\n",
       "      <td>October 17, 2005</td>\n",
       "      <td>Okay Awesome</td>\n",
       "      <td>Pamela Fryman</td>\n",
       "      <td>Chris Harris</td>\n",
       "      <td>10.14</td>\n",
       "      <td>8.3</td>\n",
       "      <td>3412</td>\n",
       "    </tr>\n",
       "  </tbody>\n",
       "</table>\n",
       "</div>"
      ],
      "text/plain": [
       "   SNo  Season  Episode           DateAired                   Title  \\\n",
       "0    1       1        1  September 19, 2005                   Pilot   \n",
       "1    2       1        2  September 26, 2005          Purple Giraffe   \n",
       "2    3       1        3     October 3, 2005  Sweet Taste of Liberty   \n",
       "3    4       1        4    October 10, 2005     Return of the Shirt   \n",
       "4    5       1        5    October 17, 2005            Okay Awesome   \n",
       "\n",
       "        Director                   Writers  Viewers  IMDB_Rating  Votes  \n",
       "0  Pamela Fryman  Carter Bays,Craig Thomas    10.94          8.5   4935  \n",
       "1  Pamela Fryman  Carter Bays,Craig Thomas    10.40          8.2   3708  \n",
       "2  Pamela Fryman    Phil Lord,Chris Miller    10.44          8.2   3514  \n",
       "3  Pamela Fryman             Kourtney Kang     9.84          8.0   3298  \n",
       "4  Pamela Fryman              Chris Harris    10.14          8.3   3412  "
      ]
     },
     "execution_count": 2,
     "metadata": {},
     "output_type": "execute_result"
    }
   ],
   "source": [
    "df = pd.read_csv('himym_episodewise.csv')\n",
    "df.head()"
   ]
  },
  {
   "cell_type": "code",
   "execution_count": 4,
   "metadata": {},
   "outputs": [
    {
     "data": {
      "text/plain": [
       "(208, 10)"
      ]
     },
     "execution_count": 4,
     "metadata": {},
     "output_type": "execute_result"
    }
   ],
   "source": [
    "df.shape"
   ]
  },
  {
   "cell_type": "code",
   "execution_count": 5,
   "metadata": {},
   "outputs": [
    {
     "name": "stdout",
     "output_type": "stream",
     "text": [
      "<class 'pandas.core.frame.DataFrame'>\n",
      "RangeIndex: 208 entries, 0 to 207\n",
      "Data columns (total 10 columns):\n",
      " #   Column       Non-Null Count  Dtype  \n",
      "---  ------       --------------  -----  \n",
      " 0   SNo          208 non-null    int64  \n",
      " 1   Season       208 non-null    int64  \n",
      " 2   Episode      208 non-null    int64  \n",
      " 3   DateAired    208 non-null    object \n",
      " 4   Title        208 non-null    object \n",
      " 5   Director     208 non-null    object \n",
      " 6   Writers      208 non-null    object \n",
      " 7   Viewers      208 non-null    float64\n",
      " 8   IMDB_Rating  208 non-null    float64\n",
      " 9   Votes        208 non-null    int64  \n",
      "dtypes: float64(2), int64(4), object(4)\n",
      "memory usage: 16.4+ KB\n"
     ]
    }
   ],
   "source": [
    "df.info()"
   ]
  },
  {
   "cell_type": "markdown",
   "metadata": {},
   "source": [
    "- from info we can find there is no missing data \n",
    "- all datatypes of the columns are correct "
   ]
  },
  {
   "cell_type": "code",
   "execution_count": 7,
   "metadata": {},
   "outputs": [
    {
     "data": {
      "text/plain": [
       "0"
      ]
     },
     "execution_count": 7,
     "metadata": {},
     "output_type": "execute_result"
    }
   ],
   "source": [
    "sum(df.duplicated())"
   ]
  },
  {
   "cell_type": "markdown",
   "metadata": {},
   "source": [
    "- no duplicated data "
   ]
  },
  {
   "cell_type": "code",
   "execution_count": 10,
   "metadata": {},
   "outputs": [
    {
     "data": {
      "text/html": [
       "<div>\n",
       "<style scoped>\n",
       "    .dataframe tbody tr th:only-of-type {\n",
       "        vertical-align: middle;\n",
       "    }\n",
       "\n",
       "    .dataframe tbody tr th {\n",
       "        vertical-align: top;\n",
       "    }\n",
       "\n",
       "    .dataframe thead th {\n",
       "        text-align: right;\n",
       "    }\n",
       "</style>\n",
       "<table border=\"1\" class=\"dataframe\">\n",
       "  <thead>\n",
       "    <tr style=\"text-align: right;\">\n",
       "      <th></th>\n",
       "      <th>SNo</th>\n",
       "      <th>Season</th>\n",
       "      <th>Episode</th>\n",
       "      <th>Viewers</th>\n",
       "      <th>IMDB_Rating</th>\n",
       "      <th>Votes</th>\n",
       "    </tr>\n",
       "  </thead>\n",
       "  <tbody>\n",
       "    <tr>\n",
       "      <th>count</th>\n",
       "      <td>208.000000</td>\n",
       "      <td>208.000000</td>\n",
       "      <td>208.000000</td>\n",
       "      <td>208.000000</td>\n",
       "      <td>208.000000</td>\n",
       "      <td>208.000000</td>\n",
       "    </tr>\n",
       "    <tr>\n",
       "      <th>mean</th>\n",
       "      <td>104.500000</td>\n",
       "      <td>5.105769</td>\n",
       "      <td>12.096154</td>\n",
       "      <td>9.044183</td>\n",
       "      <td>8.157212</td>\n",
       "      <td>2917.403846</td>\n",
       "    </tr>\n",
       "    <tr>\n",
       "      <th>std</th>\n",
       "      <td>60.188592</td>\n",
       "      <td>2.574187</td>\n",
       "      <td>6.748081</td>\n",
       "      <td>1.224558</td>\n",
       "      <td>0.575965</td>\n",
       "      <td>1191.640598</td>\n",
       "    </tr>\n",
       "    <tr>\n",
       "      <th>min</th>\n",
       "      <td>1.000000</td>\n",
       "      <td>1.000000</td>\n",
       "      <td>1.000000</td>\n",
       "      <td>6.410000</td>\n",
       "      <td>5.500000</td>\n",
       "      <td>2182.000000</td>\n",
       "    </tr>\n",
       "    <tr>\n",
       "      <th>25%</th>\n",
       "      <td>52.750000</td>\n",
       "      <td>3.000000</td>\n",
       "      <td>6.000000</td>\n",
       "      <td>8.117500</td>\n",
       "      <td>7.800000</td>\n",
       "      <td>2456.750000</td>\n",
       "    </tr>\n",
       "    <tr>\n",
       "      <th>50%</th>\n",
       "      <td>104.500000</td>\n",
       "      <td>5.000000</td>\n",
       "      <td>12.000000</td>\n",
       "      <td>8.870000</td>\n",
       "      <td>8.100000</td>\n",
       "      <td>2646.500000</td>\n",
       "    </tr>\n",
       "    <tr>\n",
       "      <th>75%</th>\n",
       "      <td>156.250000</td>\n",
       "      <td>7.000000</td>\n",
       "      <td>18.000000</td>\n",
       "      <td>9.900000</td>\n",
       "      <td>8.500000</td>\n",
       "      <td>2949.500000</td>\n",
       "    </tr>\n",
       "    <tr>\n",
       "      <th>max</th>\n",
       "      <td>208.000000</td>\n",
       "      <td>9.000000</td>\n",
       "      <td>24.000000</td>\n",
       "      <td>13.130000</td>\n",
       "      <td>9.500000</td>\n",
       "      <td>15760.000000</td>\n",
       "    </tr>\n",
       "  </tbody>\n",
       "</table>\n",
       "</div>"
      ],
      "text/plain": [
       "              SNo      Season     Episode     Viewers  IMDB_Rating  \\\n",
       "count  208.000000  208.000000  208.000000  208.000000   208.000000   \n",
       "mean   104.500000    5.105769   12.096154    9.044183     8.157212   \n",
       "std     60.188592    2.574187    6.748081    1.224558     0.575965   \n",
       "min      1.000000    1.000000    1.000000    6.410000     5.500000   \n",
       "25%     52.750000    3.000000    6.000000    8.117500     7.800000   \n",
       "50%    104.500000    5.000000   12.000000    8.870000     8.100000   \n",
       "75%    156.250000    7.000000   18.000000    9.900000     8.500000   \n",
       "max    208.000000    9.000000   24.000000   13.130000     9.500000   \n",
       "\n",
       "              Votes  \n",
       "count    208.000000  \n",
       "mean    2917.403846  \n",
       "std     1191.640598  \n",
       "min     2182.000000  \n",
       "25%     2456.750000  \n",
       "50%     2646.500000  \n",
       "75%     2949.500000  \n",
       "max    15760.000000  "
      ]
     },
     "execution_count": 10,
     "metadata": {},
     "output_type": "execute_result"
    }
   ],
   "source": [
    "df.describe()"
   ]
  },
  {
   "cell_type": "markdown",
   "metadata": {},
   "source": [
    "# Exploratory Data Analysis "
   ]
  },
  {
   "cell_type": "markdown",
   "metadata": {},
   "source": [
    "# the Best season ever for the viewers ?"
   ]
  },
  {
   "cell_type": "code",
   "execution_count": 13,
   "metadata": {},
   "outputs": [
    {
     "data": {
      "text/plain": [
       "9    24\n",
       "8    24\n",
       "7    24\n",
       "6    24\n",
       "5    24\n",
       "4    24\n",
       "2    22\n",
       "1    22\n",
       "3    20\n",
       "Name: Season, dtype: int64"
      ]
     },
     "execution_count": 13,
     "metadata": {},
     "output_type": "execute_result"
    }
   ],
   "source": [
    "df['Season'].value_counts()"
   ]
  },
  {
   "cell_type": "code",
   "execution_count": 15,
   "metadata": {},
   "outputs": [
    {
     "data": {
      "text/plain": [
       "array([1, 2, 3, 4, 5, 6, 7, 8, 9], dtype=int64)"
      ]
     },
     "execution_count": 15,
     "metadata": {},
     "output_type": "execute_result"
    }
   ],
   "source": [
    "df['Season'].unique()"
   ]
  },
  {
   "cell_type": "code",
   "execution_count": 17,
   "metadata": {},
   "outputs": [
    {
     "data": {
      "text/plain": [
       "count    208.000000\n",
       "mean       9.044183\n",
       "std        1.224558\n",
       "min        6.410000\n",
       "25%        8.117500\n",
       "50%        8.870000\n",
       "75%        9.900000\n",
       "max       13.130000\n",
       "Name: Viewers, dtype: float64"
      ]
     },
     "execution_count": 17,
     "metadata": {},
     "output_type": "execute_result"
    }
   ],
   "source": [
    "df['Viewers'].describe()"
   ]
  },
  {
   "cell_type": "code",
   "execution_count": 39,
   "metadata": {},
   "outputs": [
    {
     "data": {
      "text/plain": [
       "Season\n",
       "1    9.940455\n",
       "2    9.095000\n",
       "3    8.549500\n",
       "4    9.594583\n",
       "5    8.777083\n",
       "6    8.583750\n",
       "7    9.662083\n",
       "8    8.313333\n",
       "9    8.878333\n",
       "Name: Viewers, dtype: float64"
      ]
     },
     "execution_count": 39,
     "metadata": {},
     "output_type": "execute_result"
    }
   ],
   "source": [
    "df.groupby('Season')['Viewers'].mean()"
   ]
  },
  {
   "cell_type": "code",
   "execution_count": 40,
   "metadata": {},
   "outputs": [
    {
     "data": {
      "text/plain": [
       "<seaborn.axisgrid.FacetGrid at 0x23cc55cd0a0>"
      ]
     },
     "execution_count": 40,
     "metadata": {},
     "output_type": "execute_result"
    },
    {
     "data": {
      "image/png": "[encoded data removed]",
      "text/plain": [
       "<Figure size 360x360 with 1 Axes>"
      ]
     },
     "metadata": {
      "needs_background": "light"
     },
     "output_type": "display_data"
    }
   ],
   "source": [
    "sns.displot(df['Season'])"
   ]
  },
  {
   "cell_type": "code",
   "execution_count": 134,
   "metadata": {},
   "outputs": [
    {
     "data": {
      "text/plain": [
       "Text(0.5, 1.0, 'best season for viewers')"
      ]
     },
     "execution_count": 134,
     "metadata": {},
     "output_type": "execute_result"
    },
    {
     "data": {
      "image/png": "[encoded data removed]",
      "text/plain": [
       "<Figure size 576x288 with 1 Axes>"
      ]
     },
     "metadata": {
      "needs_background": "light"
     },
     "output_type": "display_data"
    }
   ],
   "source": [
    "plt.figure(figsize=(8,4))\n",
    "basic_color = sns.color_palette()[0]\n",
    "x=sns.boxplot(x = 'Season' , y = 'Viewers', data =df , color = basic_color)\n",
    "x.set_title('best season for viewers')"
   ]
  },
  {
   "cell_type": "markdown",
   "metadata": {},
   "source": [
    "- Viewers are significant , the best season depends on viewers is season one "
   ]
  },
  {
   "cell_type": "markdown",
   "metadata": {},
   "source": [
    "# the Best season ever for the IMDB_rating?"
   ]
  },
  {
   "cell_type": "code",
   "execution_count": 44,
   "metadata": {},
   "outputs": [
    {
     "data": {
      "text/plain": [
       "count    208.000000\n",
       "mean       8.157212\n",
       "std        0.575965\n",
       "min        5.500000\n",
       "25%        7.800000\n",
       "50%        8.100000\n",
       "75%        8.500000\n",
       "max        9.500000\n",
       "Name: IMDB_Rating, dtype: float64"
      ]
     },
     "execution_count": 44,
     "metadata": {},
     "output_type": "execute_result"
    }
   ],
   "source": [
    "df['IMDB_Rating'].describe()"
   ]
  },
  {
   "cell_type": "code",
   "execution_count": 45,
   "metadata": {},
   "outputs": [
    {
     "data": {
      "text/plain": [
       "Season\n",
       "1    8.304545\n",
       "2    8.463636\n",
       "3    8.320000\n",
       "4    8.283333\n",
       "5    8.195833\n",
       "6    8.195833\n",
       "7    8.166667\n",
       "8    7.954167\n",
       "9    7.595833\n",
       "Name: IMDB_Rating, dtype: float64"
      ]
     },
     "execution_count": 45,
     "metadata": {},
     "output_type": "execute_result"
    }
   ],
   "source": [
    "df.groupby('Season')['IMDB_Rating'].mean()"
   ]
  },
  {
   "cell_type": "code",
   "execution_count": 47,
   "metadata": {},
   "outputs": [
    {
     "data": {
      "text/plain": [
       "<AxesSubplot:xlabel='IMDB_Rating', ylabel='Density'>"
      ]
     },
     "execution_count": 47,
     "metadata": {},
     "output_type": "execute_result"
    },
    {
     "data": {
      "image/png": "[encoded data removed]",
      "text/plain": [
       "<Figure size 432x288 with 1 Axes>"
      ]
     },
     "metadata": {
      "needs_background": "light"
     },
     "output_type": "display_data"
    }
   ],
   "source": [
    "sns.kdeplot(df['IMDB_Rating'])"
   ]
  },
  {
   "cell_type": "code",
   "execution_count": 133,
   "metadata": {},
   "outputs": [
    {
     "data": {
      "text/plain": [
       "Text(0.5, 1.0, 'best season for IMDB')"
      ]
     },
     "execution_count": 133,
     "metadata": {},
     "output_type": "execute_result"
    },
    {
     "data": {
      "image/png": "[encoded data removed]",
      "text/plain": [
       "<Figure size 576x288 with 1 Axes>"
      ]
     },
     "metadata": {
      "needs_background": "light"
     },
     "output_type": "display_data"
    }
   ],
   "source": [
    "plt.figure(figsize=(8,4))\n",
    "basic_color = sns.color_palette()[0]\n",
    "x=sns.violinplot(x ='Season' , y = 'IMDB_Rating' , data = df , color = basic_color)\n",
    "x.set_title('best season for IMDB')"
   ]
  },
  {
   "cell_type": "markdown",
   "metadata": {},
   "source": [
    "- IMDB_Rating is significant,the best season depends on viewers is season two\n",
    "- the lesser rate the any season can get is 7 and the bigger is 9 "
   ]
  },
  {
   "cell_type": "markdown",
   "metadata": {},
   "source": [
    "# the Best season ever for the votes?"
   ]
  },
  {
   "cell_type": "code",
   "execution_count": 56,
   "metadata": {},
   "outputs": [
    {
     "data": {
      "text/plain": [
       "count      208.000000\n",
       "mean      2917.403846\n",
       "std       1191.640598\n",
       "min       2182.000000\n",
       "25%       2456.750000\n",
       "50%       2646.500000\n",
       "75%       2949.500000\n",
       "max      15760.000000\n",
       "Name: Votes, dtype: float64"
      ]
     },
     "execution_count": 56,
     "metadata": {},
     "output_type": "execute_result"
    }
   ],
   "source": [
    "df['Votes'].describe()"
   ]
  },
  {
   "cell_type": "code",
   "execution_count": 59,
   "metadata": {},
   "outputs": [
    {
     "data": {
      "text/plain": [
       "Season\n",
       "1     4935\n",
       "2     5571\n",
       "3     3468\n",
       "4     4075\n",
       "5     5262\n",
       "6     3762\n",
       "7     3642\n",
       "8     5373\n",
       "9    15760\n",
       "Name: Votes, dtype: int64"
      ]
     },
     "execution_count": 59,
     "metadata": {},
     "output_type": "execute_result"
    }
   ],
   "source": [
    "df.groupby('Season')['Votes'].max()"
   ]
  },
  {
   "cell_type": "code",
   "execution_count": 152,
   "metadata": {},
   "outputs": [
    {
     "data": {
      "text/plain": [
       "Text(0.5, 1.0, 'best season for votes')"
      ]
     },
     "execution_count": 152,
     "metadata": {},
     "output_type": "execute_result"
    },
    {
     "data": {
      "image/png": "[encoded data removed]",
      "text/plain": [
       "<Figure size 576x288 with 1 Axes>"
      ]
     },
     "metadata": {
      "needs_background": "light"
     },
     "output_type": "display_data"
    }
   ],
   "source": [
    "plt.figure(figsize = (8 , 4))\n",
    "basic_color = sns.color_palette()[0]\n",
    "x= sns.barplot(x = 'Season' , y = 'Votes' , data = df , color = basic_color)\n",
    "x.set_title('best season for votes')"
   ]
  },
  {
   "cell_type": "markdown",
   "metadata": {},
   "source": [
    "Votes in insignificant "
   ]
  },
  {
   "cell_type": "markdown",
   "metadata": {},
   "source": [
    "# the Best Episode ever for the viewers?"
   ]
  },
  {
   "cell_type": "code",
   "execution_count": 108,
   "metadata": {},
   "outputs": [
    {
     "data": {
      "text/plain": [
       "Title\n",
       "Last Forever, Part 2          13.13\n",
       "Last Forever, Part 1          13.13\n",
       "The Pineapple Incident        12.27\n",
       "The Naked Truth               12.22\n",
       "Benefits                      11.76\n",
       "                              ...  \n",
       "The Exploding Meatball Sub     6.87\n",
       "The Perfect Cocktail           6.77\n",
       "Romeward Bound                 6.58\n",
       "Hopeless                       6.49\n",
       "Landmarks                      6.41\n",
       "Name: Viewers, Length: 208, dtype: float64"
      ]
     },
     "execution_count": 108,
     "metadata": {},
     "output_type": "execute_result"
    }
   ],
   "source": [
    "df.groupby('Title')['Viewers'].max().sort_values(ascending=False)"
   ]
  },
  {
   "cell_type": "code",
   "execution_count": 110,
   "metadata": {},
   "outputs": [
    {
     "data": {
      "text/html": [
       "<div>\n",
       "<style scoped>\n",
       "    .dataframe tbody tr th:only-of-type {\n",
       "        vertical-align: middle;\n",
       "    }\n",
       "\n",
       "    .dataframe tbody tr th {\n",
       "        vertical-align: top;\n",
       "    }\n",
       "\n",
       "    .dataframe thead th {\n",
       "        text-align: right;\n",
       "    }\n",
       "</style>\n",
       "<table border=\"1\" class=\"dataframe\">\n",
       "  <thead>\n",
       "    <tr style=\"text-align: right;\">\n",
       "      <th></th>\n",
       "      <th>SNo</th>\n",
       "      <th>Season</th>\n",
       "      <th>Episode</th>\n",
       "      <th>DateAired</th>\n",
       "      <th>Title</th>\n",
       "      <th>Director</th>\n",
       "      <th>Writers</th>\n",
       "      <th>Viewers</th>\n",
       "      <th>IMDB_Rating</th>\n",
       "      <th>Votes</th>\n",
       "    </tr>\n",
       "  </thead>\n",
       "  <tbody>\n",
       "    <tr>\n",
       "      <th>207</th>\n",
       "      <td>208</td>\n",
       "      <td>9</td>\n",
       "      <td>24</td>\n",
       "      <td>March 31, 2014</td>\n",
       "      <td>Last Forever, Part 2</td>\n",
       "      <td>Pamela Fryman</td>\n",
       "      <td>Carter Bays,Craig Thomas</td>\n",
       "      <td>13.13</td>\n",
       "      <td>5.5</td>\n",
       "      <td>15760</td>\n",
       "    </tr>\n",
       "  </tbody>\n",
       "</table>\n",
       "</div>"
      ],
      "text/plain": [
       "     SNo  Season  Episode       DateAired                 Title  \\\n",
       "207  208       9       24  March 31, 2014  Last Forever, Part 2   \n",
       "\n",
       "          Director                   Writers  Viewers  IMDB_Rating  Votes  \n",
       "207  Pamela Fryman  Carter Bays,Craig Thomas    13.13          5.5  15760  "
      ]
     },
     "execution_count": 110,
     "metadata": {},
     "output_type": "execute_result"
    }
   ],
   "source": [
    "df[df['Title'] == 'Last Forever, Part 2']"
   ]
  },
  {
   "cell_type": "markdown",
   "metadata": {},
   "source": [
    "# the Best Episode ever for the IMDB_rating?"
   ]
  },
  {
   "cell_type": "code",
   "execution_count": 115,
   "metadata": {},
   "outputs": [
    {
     "data": {
      "text/plain": [
       "Title\n",
       "Slap Bet                                     9.5\n",
       "How Your Mother Met Me                       9.5\n",
       "The Final Page, Part 2                       9.4\n",
       "The Playbook                                 9.4\n",
       "The Pineapple Incident                       9.2\n",
       "                                            ... \n",
       "Mom and Dad                                  6.8\n",
       "Last Forever, Part 1                         6.7\n",
       "Slapsgiving 3: Slappointment in Slapmarra    5.9\n",
       "Bedtime Stories                              5.7\n",
       "Last Forever, Part 2                         5.5\n",
       "Name: IMDB_Rating, Length: 208, dtype: float64"
      ]
     },
     "execution_count": 115,
     "metadata": {},
     "output_type": "execute_result"
    }
   ],
   "source": [
    "df.groupby('Title')['IMDB_Rating'].max().sort_values(ascending=False)"
   ]
  },
  {
   "cell_type": "code",
   "execution_count": 116,
   "metadata": {},
   "outputs": [
    {
     "data": {
      "text/html": [
       "<div>\n",
       "<style scoped>\n",
       "    .dataframe tbody tr th:only-of-type {\n",
       "        vertical-align: middle;\n",
       "    }\n",
       "\n",
       "    .dataframe tbody tr th {\n",
       "        vertical-align: top;\n",
       "    }\n",
       "\n",
       "    .dataframe thead th {\n",
       "        text-align: right;\n",
       "    }\n",
       "</style>\n",
       "<table border=\"1\" class=\"dataframe\">\n",
       "  <thead>\n",
       "    <tr style=\"text-align: right;\">\n",
       "      <th></th>\n",
       "      <th>SNo</th>\n",
       "      <th>Season</th>\n",
       "      <th>Episode</th>\n",
       "      <th>DateAired</th>\n",
       "      <th>Title</th>\n",
       "      <th>Director</th>\n",
       "      <th>Writers</th>\n",
       "      <th>Viewers</th>\n",
       "      <th>IMDB_Rating</th>\n",
       "      <th>Votes</th>\n",
       "    </tr>\n",
       "  </thead>\n",
       "  <tbody>\n",
       "    <tr>\n",
       "      <th>30</th>\n",
       "      <td>31</td>\n",
       "      <td>2</td>\n",
       "      <td>9</td>\n",
       "      <td>November 20, 2006</td>\n",
       "      <td>Slap Bet</td>\n",
       "      <td>Pamela Fryman</td>\n",
       "      <td>Kourtney Kang</td>\n",
       "      <td>8.85</td>\n",
       "      <td>9.5</td>\n",
       "      <td>5571</td>\n",
       "    </tr>\n",
       "  </tbody>\n",
       "</table>\n",
       "</div>"
      ],
      "text/plain": [
       "    SNo  Season  Episode          DateAired     Title       Director  \\\n",
       "30   31       2        9  November 20, 2006  Slap Bet  Pamela Fryman   \n",
       "\n",
       "          Writers  Viewers  IMDB_Rating  Votes  \n",
       "30  Kourtney Kang     8.85          9.5   5571  "
      ]
     },
     "execution_count": 116,
     "metadata": {},
     "output_type": "execute_result"
    }
   ],
   "source": [
    "df[df['Title'] == 'Slap Bet']"
   ]
  },
  {
   "cell_type": "markdown",
   "metadata": {},
   "source": [
    "# the Best Episode ever for the Votes ?"
   ]
  },
  {
   "cell_type": "code",
   "execution_count": 117,
   "metadata": {},
   "outputs": [
    {
     "data": {
      "text/plain": [
       "Title\n",
       "Last Forever, Part 2          15760\n",
       "Last Forever, Part 1           8625\n",
       "How Your Mother Met Me         8123\n",
       "Slap Bet                       5571\n",
       "The Final Page, Part 2         5373\n",
       "                              ...  \n",
       "Hopeless                       2225\n",
       "The Exploding Meatball Sub     2225\n",
       "Garbage Island                 2200\n",
       "Good Crazy                     2189\n",
       "Landmarks                      2182\n",
       "Name: Votes, Length: 208, dtype: int64"
      ]
     },
     "execution_count": 117,
     "metadata": {},
     "output_type": "execute_result"
    }
   ],
   "source": [
    "df.groupby('Title')['Votes'].max().sort_values(ascending=False)"
   ]
  },
  {
   "cell_type": "code",
   "execution_count": 118,
   "metadata": {},
   "outputs": [
    {
     "data": {
      "text/html": [
       "<div>\n",
       "<style scoped>\n",
       "    .dataframe tbody tr th:only-of-type {\n",
       "        vertical-align: middle;\n",
       "    }\n",
       "\n",
       "    .dataframe tbody tr th {\n",
       "        vertical-align: top;\n",
       "    }\n",
       "\n",
       "    .dataframe thead th {\n",
       "        text-align: right;\n",
       "    }\n",
       "</style>\n",
       "<table border=\"1\" class=\"dataframe\">\n",
       "  <thead>\n",
       "    <tr style=\"text-align: right;\">\n",
       "      <th></th>\n",
       "      <th>SNo</th>\n",
       "      <th>Season</th>\n",
       "      <th>Episode</th>\n",
       "      <th>DateAired</th>\n",
       "      <th>Title</th>\n",
       "      <th>Director</th>\n",
       "      <th>Writers</th>\n",
       "      <th>Viewers</th>\n",
       "      <th>IMDB_Rating</th>\n",
       "      <th>Votes</th>\n",
       "    </tr>\n",
       "  </thead>\n",
       "  <tbody>\n",
       "    <tr>\n",
       "      <th>207</th>\n",
       "      <td>208</td>\n",
       "      <td>9</td>\n",
       "      <td>24</td>\n",
       "      <td>March 31, 2014</td>\n",
       "      <td>Last Forever, Part 2</td>\n",
       "      <td>Pamela Fryman</td>\n",
       "      <td>Carter Bays,Craig Thomas</td>\n",
       "      <td>13.13</td>\n",
       "      <td>5.5</td>\n",
       "      <td>15760</td>\n",
       "    </tr>\n",
       "  </tbody>\n",
       "</table>\n",
       "</div>"
      ],
      "text/plain": [
       "     SNo  Season  Episode       DateAired                 Title  \\\n",
       "207  208       9       24  March 31, 2014  Last Forever, Part 2   \n",
       "\n",
       "          Director                   Writers  Viewers  IMDB_Rating  Votes  \n",
       "207  Pamela Fryman  Carter Bays,Craig Thomas    13.13          5.5  15760  "
      ]
     },
     "execution_count": 118,
     "metadata": {},
     "output_type": "execute_result"
    }
   ],
   "source": [
    "df[df['Title'] == 'Last Forever, Part 2']"
   ]
  },
  {
   "cell_type": "markdown",
   "metadata": {},
   "source": [
    "# which writers were the most successful For Viewers?"
   ]
  },
  {
   "cell_type": "code",
   "execution_count": 120,
   "metadata": {},
   "outputs": [
    {
     "data": {
      "text/plain": [
       "Carter Bays,Craig Thomas                  66\n",
       "Chris Harris                              16\n",
       "Kourtney Kang                             15\n",
       "Stephen Lloyd                             14\n",
       "Jamie Rhonheimer                          10\n",
       "Matt Kuhn                                  9\n",
       "Chuck Tatham                               8\n",
       "Joe Kelly                                  7\n",
       "Craig Gerard,Matthew Zinman                6\n",
       "Greg Malins                                5\n",
       "Brenda Hsueh                               5\n",
       "Robia Rashid                               5\n",
       "Gloria Calderon Kellett                    5\n",
       "Theresa Mulligan Rosenthal                 4\n",
       "Dan Gregor,Doug Mand                       4\n",
       "George Sloan                               3\n",
       "Tami Sagher                                3\n",
       "Jennifer Hendriks                          3\n",
       "Maria Ferrari                              3\n",
       "Phil Lord,Chris Miller                     2\n",
       "Kristen Newman                             2\n",
       "Jonathan Groff                             2\n",
       "Sam Johnson,Chris Marcil                   2\n",
       "Barbara Adler                              2\n",
       "David Hemingson                            1\n",
       "Eric Falconer,Romanski                     1\n",
       "Jonathan Groff,Chris Harris                1\n",
       "Rachel Axler                               1\n",
       "Tom Ruprecht                               1\n",
       "Ira Ungerleider                            1\n",
       "Chris Harris, Carter Bays,Craig Thomas     1\n",
       "Name: Writers, dtype: int64"
      ]
     },
     "execution_count": 120,
     "metadata": {},
     "output_type": "execute_result"
    }
   ],
   "source": [
    "df['Writers'].value_counts()"
   ]
  },
  {
   "cell_type": "code",
   "execution_count": 128,
   "metadata": {
    "scrolled": true
   },
   "outputs": [
    {
     "data": {
      "text/plain": [
       "Writers\n",
       "Barbara Adler                              8.685000\n",
       "Brenda Hsueh                               9.692000\n",
       "Carter Bays,Craig Thomas                   9.222576\n",
       "Chris Harris                               8.631250\n",
       "Chris Harris, Carter Bays,Craig Thomas    10.670000\n",
       "Chuck Tatham                               8.485000\n",
       "Craig Gerard,Matthew Zinman                8.865000\n",
       "Dan Gregor,Doug Mand                       8.697500\n",
       "David Hemingson                            7.960000\n",
       "Eric Falconer,Romanski                     8.730000\n",
       "George Sloan                               8.783333\n",
       "Gloria Calderon Kellett                    9.056000\n",
       "Greg Malins                                8.854000\n",
       "Ira Ungerleider                            7.240000\n",
       "Jamie Rhonheimer                           8.670000\n",
       "Jennifer Hendriks                          9.600000\n",
       "Joe Kelly                                  9.157143\n",
       "Jonathan Groff                             9.425000\n",
       "Jonathan Groff,Chris Harris                8.930000\n",
       "Kourtney Kang                              9.186667\n",
       "Kristen Newman                             9.470000\n",
       "Maria Ferrari                              8.916667\n",
       "Matt Kuhn                                  9.058889\n",
       "Phil Lord,Chris Miller                    10.365000\n",
       "Rachel Axler                               8.670000\n",
       "Robia Rashid                               9.304000\n",
       "Sam Johnson,Chris Marcil                  10.455000\n",
       "Stephen Lloyd                              8.545000\n",
       "Tami Sagher                                9.150000\n",
       "Theresa Mulligan Rosenthal                 9.142500\n",
       "Tom Ruprecht                               9.330000\n",
       "Name: Viewers, dtype: float64"
      ]
     },
     "execution_count": 128,
     "metadata": {},
     "output_type": "execute_result"
    }
   ],
   "source": [
    "df.groupby('Writers')['Viewers'].mean()"
   ]
  },
  {
   "cell_type": "code",
   "execution_count": 153,
   "metadata": {},
   "outputs": [
    {
     "data": {
      "text/plain": [
       "Text(0.5, 1.0, 'the most successful Writer')"
      ]
     },
     "execution_count": 153,
     "metadata": {},
     "output_type": "execute_result"
    },
    {
     "data": {
      "image/png": "[encoded data removed]",
      "text/plain": [
       "<Figure size 1152x288 with 1 Axes>"
      ]
     },
     "metadata": {
      "needs_background": "light"
     },
     "output_type": "display_data"
    }
   ],
   "source": [
    "plt.figure(figsize=(16,4))\n",
    "basic_color = sns.color_palette()[0]\n",
    "x=sns.barplot(x='Writers',y='Viewers', data = df, color = basic_color)\n",
    "plt.xticks(rotation = 90)\n",
    "x.set_title(\"the most successful Writer\")"
   ]
  },
  {
   "cell_type": "markdown",
   "metadata": {},
   "source": [
    "# which writers were the most successful For IMDB?"
   ]
  },
  {
   "cell_type": "code",
   "execution_count": 135,
   "metadata": {},
   "outputs": [
    {
     "data": {
      "text/plain": [
       "Writers\n",
       "Barbara Adler                             7.600000\n",
       "Brenda Hsueh                              8.240000\n",
       "Carter Bays,Craig Thomas                  8.171212\n",
       "Chris Harris                              8.312500\n",
       "Chris Harris, Carter Bays,Craig Thomas    8.800000\n",
       "Chuck Tatham                              7.750000\n",
       "Craig Gerard,Matthew Zinman               8.116667\n",
       "Dan Gregor,Doug Mand                      7.950000\n",
       "David Hemingson                           8.100000\n",
       "Eric Falconer,Romanski                    7.600000\n",
       "George Sloan                              8.266667\n",
       "Gloria Calderon Kellett                   8.600000\n",
       "Greg Malins                               8.560000\n",
       "Ira Ungerleider                           7.900000\n",
       "Jamie Rhonheimer                          7.980000\n",
       "Jennifer Hendriks                         8.433333\n",
       "Joe Kelly                                 8.414286\n",
       "Jonathan Groff                            8.250000\n",
       "Jonathan Groff,Chris Harris               7.800000\n",
       "Kourtney Kang                             8.226667\n",
       "Kristen Newman                            8.500000\n",
       "Maria Ferrari                             8.000000\n",
       "Matt Kuhn                                 8.077778\n",
       "Phil Lord,Chris Miller                    8.150000\n",
       "Rachel Axler                              7.300000\n",
       "Robia Rashid                              8.040000\n",
       "Sam Johnson,Chris Marcil                  8.000000\n",
       "Stephen Lloyd                             8.114286\n",
       "Tami Sagher                               7.666667\n",
       "Theresa Mulligan Rosenthal                8.250000\n",
       "Tom Ruprecht                              7.700000\n",
       "Name: IMDB_Rating, dtype: float64"
      ]
     },
     "execution_count": 135,
     "metadata": {},
     "output_type": "execute_result"
    }
   ],
   "source": [
    "df.groupby('Writers')['IMDB_Rating'].mean()"
   ]
  },
  {
   "cell_type": "code",
   "execution_count": 154,
   "metadata": {},
   "outputs": [
    {
     "data": {
      "text/plain": [
       "Text(0.5, 1.0, 'the most successful Writer')"
      ]
     },
     "execution_count": 154,
     "metadata": {},
     "output_type": "execute_result"
    },
    {
     "data": {
      "image/png": "[encoded data removed]",
      "text/plain": [
       "<Figure size 1152x288 with 1 Axes>"
      ]
     },
     "metadata": {
      "needs_background": "light"
     },
     "output_type": "display_data"
    }
   ],
   "source": [
    "plt.figure(figsize=(16,4))\n",
    "basic_color = sns.color_palette()[0]\n",
    "x=sns.barplot(x='Writers',y='IMDB_Rating', data = df , estimator = np.mean , color = basic_color )\n",
    "plt.xticks(rotation = 90)\n",
    "x.set_title(\"the most successful Writer\")"
   ]
  },
  {
   "cell_type": "markdown",
   "metadata": {},
   "source": [
    "# which writers were the most successful For Votes?"
   ]
  },
  {
   "cell_type": "code",
   "execution_count": 137,
   "metadata": {},
   "outputs": [
    {
     "data": {
      "text/plain": [
       "Writers\n",
       "Barbara Adler                             2458.500000\n",
       "Brenda Hsueh                              2889.800000\n",
       "Carter Bays,Craig Thomas                  3371.000000\n",
       "Chris Harris                              2842.500000\n",
       "Chris Harris, Carter Bays,Craig Thomas    3072.000000\n",
       "Chuck Tatham                              2414.500000\n",
       "Craig Gerard,Matthew Zinman               2554.000000\n",
       "Dan Gregor,Doug Mand                      2629.500000\n",
       "David Hemingson                           2609.000000\n",
       "Eric Falconer,Romanski                    2322.000000\n",
       "George Sloan                              2692.666667\n",
       "Gloria Calderon Kellett                   3123.600000\n",
       "Greg Malins                               2883.200000\n",
       "Ira Ungerleider                           2790.000000\n",
       "Jamie Rhonheimer                          2484.100000\n",
       "Jennifer Hendriks                         2837.000000\n",
       "Joe Kelly                                 2805.285714\n",
       "Jonathan Groff                            2517.000000\n",
       "Jonathan Groff,Chris Harris               2460.000000\n",
       "Kourtney Kang                             2887.466667\n",
       "Kristen Newman                            2969.000000\n",
       "Maria Ferrari                             2676.000000\n",
       "Matt Kuhn                                 2618.666667\n",
       "Phil Lord,Chris Miller                    3292.000000\n",
       "Rachel Axler                              2570.000000\n",
       "Robia Rashid                              2430.400000\n",
       "Sam Johnson,Chris Marcil                  3142.500000\n",
       "Stephen Lloyd                             2575.000000\n",
       "Tami Sagher                               2355.666667\n",
       "Theresa Mulligan Rosenthal                2797.000000\n",
       "Tom Ruprecht                              2200.000000\n",
       "Name: Votes, dtype: float64"
      ]
     },
     "execution_count": 137,
     "metadata": {},
     "output_type": "execute_result"
    }
   ],
   "source": [
    "df.groupby('Writers')['Votes'].mean()"
   ]
  },
  {
   "cell_type": "code",
   "execution_count": 155,
   "metadata": {},
   "outputs": [
    {
     "data": {
      "text/plain": [
       "Text(0.5, 1.0, 'the most successful Writer')"
      ]
     },
     "execution_count": 155,
     "metadata": {},
     "output_type": "execute_result"
    },
    {
     "data": {
      "image/png": "[encoded data removed]",
      "text/plain": [
       "<Figure size 1152x288 with 1 Axes>"
      ]
     },
     "metadata": {
      "needs_background": "light"
     },
     "output_type": "display_data"
    }
   ],
   "source": [
    "plt.figure(figsize=(16,4))\n",
    "basic_color = sns.color_palette()[0]\n",
    "x=sns.barplot(x='Writers',y='Votes', data = df, color = basic_color)\n",
    "plt.xticks(rotation = 90)\n",
    "x.set_title(\"the most successful Writer\")"
   ]
  },
  {
   "cell_type": "markdown",
   "metadata": {},
   "source": [
    "- views , votes and IMDB_Rating  is insignificant with writers because the most of episodes have made with the same Writers (Carter Bays,Craig Thomas) so it's normal and predicted they will capture the most votes ,views and IMDB_Rating"
   ]
  },
  {
   "cell_type": "markdown",
   "metadata": {},
   "source": [
    "# which the most successful duo of directors and writers when work together? "
   ]
  },
  {
   "cell_type": "code",
   "execution_count": 151,
   "metadata": {},
   "outputs": [
    {
     "data": {
      "text/html": [
       "<div>\n",
       "<style scoped>\n",
       "    .dataframe tbody tr th:only-of-type {\n",
       "        vertical-align: middle;\n",
       "    }\n",
       "\n",
       "    .dataframe tbody tr th {\n",
       "        vertical-align: top;\n",
       "    }\n",
       "\n",
       "    .dataframe thead th {\n",
       "        text-align: right;\n",
       "    }\n",
       "</style>\n",
       "<table border=\"1\" class=\"dataframe\">\n",
       "  <thead>\n",
       "    <tr style=\"text-align: right;\">\n",
       "      <th>Director</th>\n",
       "      <th>Michael Shea</th>\n",
       "      <th>Neil Patrick Harris</th>\n",
       "      <th>Pamela Fryman</th>\n",
       "      <th>Rob Greenberg</th>\n",
       "    </tr>\n",
       "    <tr>\n",
       "      <th>Writers</th>\n",
       "      <th></th>\n",
       "      <th></th>\n",
       "      <th></th>\n",
       "      <th></th>\n",
       "    </tr>\n",
       "  </thead>\n",
       "  <tbody>\n",
       "    <tr>\n",
       "      <th>Barbara Adler</th>\n",
       "      <td>NaN</td>\n",
       "      <td>NaN</td>\n",
       "      <td>7.600000</td>\n",
       "      <td>NaN</td>\n",
       "    </tr>\n",
       "    <tr>\n",
       "      <th>Brenda Hsueh</th>\n",
       "      <td>NaN</td>\n",
       "      <td>NaN</td>\n",
       "      <td>8.240000</td>\n",
       "      <td>NaN</td>\n",
       "    </tr>\n",
       "    <tr>\n",
       "      <th>Carter Bays,Craig Thomas</th>\n",
       "      <td>NaN</td>\n",
       "      <td>NaN</td>\n",
       "      <td>8.156250</td>\n",
       "      <td>8.65</td>\n",
       "    </tr>\n",
       "    <tr>\n",
       "      <th>Chris Harris</th>\n",
       "      <td>NaN</td>\n",
       "      <td>NaN</td>\n",
       "      <td>8.314286</td>\n",
       "      <td>8.30</td>\n",
       "    </tr>\n",
       "    <tr>\n",
       "      <th>Chris Harris, Carter Bays,Craig Thomas</th>\n",
       "      <td>NaN</td>\n",
       "      <td>NaN</td>\n",
       "      <td>8.800000</td>\n",
       "      <td>NaN</td>\n",
       "    </tr>\n",
       "    <tr>\n",
       "      <th>Chuck Tatham</th>\n",
       "      <td>NaN</td>\n",
       "      <td>NaN</td>\n",
       "      <td>7.750000</td>\n",
       "      <td>NaN</td>\n",
       "    </tr>\n",
       "    <tr>\n",
       "      <th>Craig Gerard,Matthew Zinman</th>\n",
       "      <td>NaN</td>\n",
       "      <td>NaN</td>\n",
       "      <td>8.116667</td>\n",
       "      <td>NaN</td>\n",
       "    </tr>\n",
       "    <tr>\n",
       "      <th>Dan Gregor,Doug Mand</th>\n",
       "      <td>NaN</td>\n",
       "      <td>NaN</td>\n",
       "      <td>7.950000</td>\n",
       "      <td>NaN</td>\n",
       "    </tr>\n",
       "    <tr>\n",
       "      <th>David Hemingson</th>\n",
       "      <td>NaN</td>\n",
       "      <td>NaN</td>\n",
       "      <td>8.100000</td>\n",
       "      <td>NaN</td>\n",
       "    </tr>\n",
       "    <tr>\n",
       "      <th>Eric Falconer,Romanski</th>\n",
       "      <td>NaN</td>\n",
       "      <td>NaN</td>\n",
       "      <td>7.600000</td>\n",
       "      <td>NaN</td>\n",
       "    </tr>\n",
       "    <tr>\n",
       "      <th>George Sloan</th>\n",
       "      <td>NaN</td>\n",
       "      <td>NaN</td>\n",
       "      <td>8.266667</td>\n",
       "      <td>NaN</td>\n",
       "    </tr>\n",
       "    <tr>\n",
       "      <th>Gloria Calderon Kellett</th>\n",
       "      <td>NaN</td>\n",
       "      <td>NaN</td>\n",
       "      <td>8.600000</td>\n",
       "      <td>NaN</td>\n",
       "    </tr>\n",
       "    <tr>\n",
       "      <th>Greg Malins</th>\n",
       "      <td>NaN</td>\n",
       "      <td>8.6</td>\n",
       "      <td>8.550000</td>\n",
       "      <td>NaN</td>\n",
       "    </tr>\n",
       "    <tr>\n",
       "      <th>Ira Ungerleider</th>\n",
       "      <td>NaN</td>\n",
       "      <td>NaN</td>\n",
       "      <td>7.900000</td>\n",
       "      <td>NaN</td>\n",
       "    </tr>\n",
       "    <tr>\n",
       "      <th>Jamie Rhonheimer</th>\n",
       "      <td>NaN</td>\n",
       "      <td>NaN</td>\n",
       "      <td>7.955556</td>\n",
       "      <td>8.20</td>\n",
       "    </tr>\n",
       "    <tr>\n",
       "      <th>Jennifer Hendriks</th>\n",
       "      <td>NaN</td>\n",
       "      <td>NaN</td>\n",
       "      <td>8.433333</td>\n",
       "      <td>NaN</td>\n",
       "    </tr>\n",
       "    <tr>\n",
       "      <th>Joe Kelly</th>\n",
       "      <td>NaN</td>\n",
       "      <td>NaN</td>\n",
       "      <td>8.414286</td>\n",
       "      <td>NaN</td>\n",
       "    </tr>\n",
       "    <tr>\n",
       "      <th>Jonathan Groff</th>\n",
       "      <td>NaN</td>\n",
       "      <td>NaN</td>\n",
       "      <td>8.250000</td>\n",
       "      <td>NaN</td>\n",
       "    </tr>\n",
       "    <tr>\n",
       "      <th>Jonathan Groff,Chris Harris</th>\n",
       "      <td>NaN</td>\n",
       "      <td>NaN</td>\n",
       "      <td>7.800000</td>\n",
       "      <td>NaN</td>\n",
       "    </tr>\n",
       "    <tr>\n",
       "      <th>Kourtney Kang</th>\n",
       "      <td>NaN</td>\n",
       "      <td>NaN</td>\n",
       "      <td>8.257143</td>\n",
       "      <td>7.80</td>\n",
       "    </tr>\n",
       "    <tr>\n",
       "      <th>Kristen Newman</th>\n",
       "      <td>NaN</td>\n",
       "      <td>NaN</td>\n",
       "      <td>8.500000</td>\n",
       "      <td>NaN</td>\n",
       "    </tr>\n",
       "    <tr>\n",
       "      <th>Maria Ferrari</th>\n",
       "      <td>NaN</td>\n",
       "      <td>NaN</td>\n",
       "      <td>8.000000</td>\n",
       "      <td>NaN</td>\n",
       "    </tr>\n",
       "    <tr>\n",
       "      <th>Matt Kuhn</th>\n",
       "      <td>NaN</td>\n",
       "      <td>NaN</td>\n",
       "      <td>8.087500</td>\n",
       "      <td>8.00</td>\n",
       "    </tr>\n",
       "    <tr>\n",
       "      <th>Phil Lord,Chris Miller</th>\n",
       "      <td>NaN</td>\n",
       "      <td>NaN</td>\n",
       "      <td>8.150000</td>\n",
       "      <td>NaN</td>\n",
       "    </tr>\n",
       "    <tr>\n",
       "      <th>Rachel Axler</th>\n",
       "      <td>NaN</td>\n",
       "      <td>NaN</td>\n",
       "      <td>7.300000</td>\n",
       "      <td>NaN</td>\n",
       "    </tr>\n",
       "    <tr>\n",
       "      <th>Robia Rashid</th>\n",
       "      <td>8.3</td>\n",
       "      <td>NaN</td>\n",
       "      <td>7.975000</td>\n",
       "      <td>NaN</td>\n",
       "    </tr>\n",
       "    <tr>\n",
       "      <th>Sam Johnson,Chris Marcil</th>\n",
       "      <td>NaN</td>\n",
       "      <td>NaN</td>\n",
       "      <td>8.000000</td>\n",
       "      <td>NaN</td>\n",
       "    </tr>\n",
       "    <tr>\n",
       "      <th>Stephen Lloyd</th>\n",
       "      <td>8.4</td>\n",
       "      <td>NaN</td>\n",
       "      <td>8.066667</td>\n",
       "      <td>NaN</td>\n",
       "    </tr>\n",
       "    <tr>\n",
       "      <th>Tami Sagher</th>\n",
       "      <td>NaN</td>\n",
       "      <td>NaN</td>\n",
       "      <td>7.666667</td>\n",
       "      <td>NaN</td>\n",
       "    </tr>\n",
       "    <tr>\n",
       "      <th>Theresa Mulligan Rosenthal</th>\n",
       "      <td>NaN</td>\n",
       "      <td>NaN</td>\n",
       "      <td>8.250000</td>\n",
       "      <td>NaN</td>\n",
       "    </tr>\n",
       "    <tr>\n",
       "      <th>Tom Ruprecht</th>\n",
       "      <td>7.7</td>\n",
       "      <td>NaN</td>\n",
       "      <td>NaN</td>\n",
       "      <td>NaN</td>\n",
       "    </tr>\n",
       "  </tbody>\n",
       "</table>\n",
       "</div>"
      ],
      "text/plain": [
       "Director                                Michael Shea  Neil Patrick Harris  \\\n",
       "Writers                                                                     \n",
       "Barbara Adler                                    NaN                  NaN   \n",
       "Brenda Hsueh                                     NaN                  NaN   \n",
       "Carter Bays,Craig Thomas                         NaN                  NaN   \n",
       "Chris Harris                                     NaN                  NaN   \n",
       "Chris Harris, Carter Bays,Craig Thomas           NaN                  NaN   \n",
       "Chuck Tatham                                     NaN                  NaN   \n",
       "Craig Gerard,Matthew Zinman                      NaN                  NaN   \n",
       "Dan Gregor,Doug Mand                             NaN                  NaN   \n",
       "David Hemingson                                  NaN                  NaN   \n",
       "Eric Falconer,Romanski                           NaN                  NaN   \n",
       "George Sloan                                     NaN                  NaN   \n",
       "Gloria Calderon Kellett                          NaN                  NaN   \n",
       "Greg Malins                                      NaN                  8.6   \n",
       "Ira Ungerleider                                  NaN                  NaN   \n",
       "Jamie Rhonheimer                                 NaN                  NaN   \n",
       "Jennifer Hendriks                                NaN                  NaN   \n",
       "Joe Kelly                                        NaN                  NaN   \n",
       "Jonathan Groff                                   NaN                  NaN   \n",
       "Jonathan Groff,Chris Harris                      NaN                  NaN   \n",
       "Kourtney Kang                                    NaN                  NaN   \n",
       "Kristen Newman                                   NaN                  NaN   \n",
       "Maria Ferrari                                    NaN                  NaN   \n",
       "Matt Kuhn                                        NaN                  NaN   \n",
       "Phil Lord,Chris Miller                           NaN                  NaN   \n",
       "Rachel Axler                                     NaN                  NaN   \n",
       "Robia Rashid                                     8.3                  NaN   \n",
       "Sam Johnson,Chris Marcil                         NaN                  NaN   \n",
       "Stephen Lloyd                                    8.4                  NaN   \n",
       "Tami Sagher                                      NaN                  NaN   \n",
       "Theresa Mulligan Rosenthal                       NaN                  NaN   \n",
       "Tom Ruprecht                                     7.7                  NaN   \n",
       "\n",
       "Director                                Pamela Fryman  Rob Greenberg  \n",
       "Writers                                                               \n",
       "Barbara Adler                                7.600000            NaN  \n",
       "Brenda Hsueh                                 8.240000            NaN  \n",
       "Carter Bays,Craig Thomas                     8.156250           8.65  \n",
       "Chris Harris                                 8.314286           8.30  \n",
       "Chris Harris, Carter Bays,Craig Thomas       8.800000            NaN  \n",
       "Chuck Tatham                                 7.750000            NaN  \n",
       "Craig Gerard,Matthew Zinman                  8.116667            NaN  \n",
       "Dan Gregor,Doug Mand                         7.950000            NaN  \n",
       "David Hemingson                              8.100000            NaN  \n",
       "Eric Falconer,Romanski                       7.600000            NaN  \n",
       "George Sloan                                 8.266667            NaN  \n",
       "Gloria Calderon Kellett                      8.600000            NaN  \n",
       "Greg Malins                                  8.550000            NaN  \n",
       "Ira Ungerleider                              7.900000            NaN  \n",
       "Jamie Rhonheimer                             7.955556           8.20  \n",
       "Jennifer Hendriks                            8.433333            NaN  \n",
       "Joe Kelly                                    8.414286            NaN  \n",
       "Jonathan Groff                               8.250000            NaN  \n",
       "Jonathan Groff,Chris Harris                  7.800000            NaN  \n",
       "Kourtney Kang                                8.257143           7.80  \n",
       "Kristen Newman                               8.500000            NaN  \n",
       "Maria Ferrari                                8.000000            NaN  \n",
       "Matt Kuhn                                    8.087500           8.00  \n",
       "Phil Lord,Chris Miller                       8.150000            NaN  \n",
       "Rachel Axler                                 7.300000            NaN  \n",
       "Robia Rashid                                 7.975000            NaN  \n",
       "Sam Johnson,Chris Marcil                     8.000000            NaN  \n",
       "Stephen Lloyd                                8.066667            NaN  \n",
       "Tami Sagher                                  7.666667            NaN  \n",
       "Theresa Mulligan Rosenthal                   8.250000            NaN  \n",
       "Tom Ruprecht                                      NaN            NaN  "
      ]
     },
     "execution_count": 151,
     "metadata": {},
     "output_type": "execute_result"
    }
   ],
   "source": [
    "pd.pivot_table(df , index = ['Writers'] , columns = 'Director' , values = 'IMDB_Rating' )"
   ]
  },
  {
   "cell_type": "markdown",
   "metadata": {},
   "source": [
    "- this factor also insignificant because the most episode have been made with Pamela Fryman only , so it's normal to find lots of missing data "
   ]
  },
  {
   "cell_type": "markdown",
   "metadata": {},
   "source": [
    "# Conclusions"
   ]
  },
  {
   "cell_type": "markdown",
   "metadata": {},
   "source": [
    "- Finally we can say the significant factors or features on this data such as viewers , IMBD and votes\n",
    "- best season for viewers is season one \n",
    "- best season for IMDb is season two\n",
    "- best season for votes is season nine\n",
    "- best episode for viewers and votes is last forever part 2\n",
    "- best episode for IMDB is slap bet\n",
    "- The series has continuity whatever rating, it always has a lot of viewers,although the best season ever in season one. "
   ]
  },
  {
   "cell_type": "markdown",
   "metadata": {},
   "source": [
    "# Limitations :"
   ]
  },
  {
   "cell_type": "markdown",
   "metadata": {},
   "source": [
    "- can't find strong correlations between Director , Writers and Title "
   ]
  }
 ],
 "metadata": {
  "kernelspec": {
   "display_name": "Python 3",
   "language": "python",
   "name": "python3"
  },
  "language_info": {
   "codemirror_mode": {
    "name": "ipython",
    "version": 3
   },
   "file_extension": ".py",
   "mimetype": "text/x-python",
   "name": "python",
   "nbconvert_exporter": "python",
   "pygments_lexer": "ipython3",
   "version": "3.8.5"
  }
 },
 "nbformat": 4,
 "nbformat_minor": 4
}
